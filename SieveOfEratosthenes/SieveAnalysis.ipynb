{
 "cells": [
  {
   "cell_type": "code",
   "execution_count": 1,
   "metadata": {},
   "outputs": [],
   "source": [
    "import pandas as pd\n",
    "import matplotlib.pyplot as plt\n",
    "%matplotlib inline\n",
    "plt.style.use('ggplot')"
   ]
  },
  {
   "cell_type": "code",
   "execution_count": 2,
   "metadata": {},
   "outputs": [
    {
     "data": {
      "text/html": [
       "<div>\n",
       "<style scoped>\n",
       "    .dataframe tbody tr th:only-of-type {\n",
       "        vertical-align: middle;\n",
       "    }\n",
       "\n",
       "    .dataframe tbody tr th {\n",
       "        vertical-align: top;\n",
       "    }\n",
       "\n",
       "    .dataframe thead th {\n",
       "        text-align: right;\n",
       "    }\n",
       "</style>\n",
       "<table border=\"1\" class=\"dataframe\">\n",
       "  <thead>\n",
       "    <tr style=\"text-align: right;\">\n",
       "      <th></th>\n",
       "      <th>Number of processes</th>\n",
       "      <th>N</th>\n",
       "      <th>Time (s)</th>\n",
       "    </tr>\n",
       "  </thead>\n",
       "  <tbody>\n",
       "    <tr>\n",
       "      <th>0</th>\n",
       "      <td>0</td>\n",
       "      <td>1000000</td>\n",
       "      <td>0.004691</td>\n",
       "    </tr>\n",
       "    <tr>\n",
       "      <th>1</th>\n",
       "      <td>0</td>\n",
       "      <td>10000000</td>\n",
       "      <td>0.065410</td>\n",
       "    </tr>\n",
       "    <tr>\n",
       "      <th>2</th>\n",
       "      <td>0</td>\n",
       "      <td>100000000</td>\n",
       "      <td>0.965118</td>\n",
       "    </tr>\n",
       "    <tr>\n",
       "      <th>3</th>\n",
       "      <td>0</td>\n",
       "      <td>1000000000</td>\n",
       "      <td>12.606569</td>\n",
       "    </tr>\n",
       "    <tr>\n",
       "      <th>4</th>\n",
       "      <td>0</td>\n",
       "      <td>10000000000</td>\n",
       "      <td>148.148676</td>\n",
       "    </tr>\n",
       "  </tbody>\n",
       "</table>\n",
       "</div>"
      ],
      "text/plain": [
       "   Number of processes            N    Time (s)\n",
       "0                    0      1000000    0.004691\n",
       "1                    0     10000000    0.065410\n",
       "2                    0    100000000    0.965118\n",
       "3                    0   1000000000   12.606569\n",
       "4                    0  10000000000  148.148676"
      ]
     },
     "execution_count": 2,
     "metadata": {},
     "output_type": "execute_result"
    }
   ],
   "source": [
    "df = pd.read_csv(r\"times.txt\", names=[\"Number of processes\", \"N\", \"Time (s)\"])\n",
    "df.astype({\"Number of processes\": 'int8', \"N\" : \"int64\", \"Time (s)\" : \"double\"})\n",
    "df.head()"
   ]
  },
  {
   "cell_type": "markdown",
   "metadata": {},
   "source": [
    "# Performance analysis Sieve of Erathosthenes\n",
    "Ran on a 4-core processor 8 GB RAM Ubunutu Virtual Machine\n",
    "## Sequential:\n",
    "Entries marked with Number of threads == 0 are run on the sequential version."
   ]
  },
  {
   "cell_type": "code",
   "execution_count": 3,
   "metadata": {},
   "outputs": [
    {
     "data": {
      "text/html": [
       "<div>\n",
       "<style scoped>\n",
       "    .dataframe tbody tr th:only-of-type {\n",
       "        vertical-align: middle;\n",
       "    }\n",
       "\n",
       "    .dataframe tbody tr th {\n",
       "        vertical-align: top;\n",
       "    }\n",
       "\n",
       "    .dataframe thead th {\n",
       "        text-align: right;\n",
       "    }\n",
       "</style>\n",
       "<table border=\"1\" class=\"dataframe\">\n",
       "  <thead>\n",
       "    <tr style=\"text-align: right;\">\n",
       "      <th></th>\n",
       "      <th>Number of processes</th>\n",
       "      <th>N</th>\n",
       "      <th>Time (s)</th>\n",
       "    </tr>\n",
       "  </thead>\n",
       "  <tbody>\n",
       "    <tr>\n",
       "      <th>0</th>\n",
       "      <td>0</td>\n",
       "      <td>1000000</td>\n",
       "      <td>0.004691</td>\n",
       "    </tr>\n",
       "    <tr>\n",
       "      <th>1</th>\n",
       "      <td>0</td>\n",
       "      <td>10000000</td>\n",
       "      <td>0.065410</td>\n",
       "    </tr>\n",
       "    <tr>\n",
       "      <th>2</th>\n",
       "      <td>0</td>\n",
       "      <td>100000000</td>\n",
       "      <td>0.965118</td>\n",
       "    </tr>\n",
       "    <tr>\n",
       "      <th>3</th>\n",
       "      <td>0</td>\n",
       "      <td>1000000000</td>\n",
       "      <td>12.606569</td>\n",
       "    </tr>\n",
       "    <tr>\n",
       "      <th>4</th>\n",
       "      <td>0</td>\n",
       "      <td>10000000000</td>\n",
       "      <td>148.148676</td>\n",
       "    </tr>\n",
       "  </tbody>\n",
       "</table>\n",
       "</div>"
      ],
      "text/plain": [
       "   Number of processes            N    Time (s)\n",
       "0                    0      1000000    0.004691\n",
       "1                    0     10000000    0.065410\n",
       "2                    0    100000000    0.965118\n",
       "3                    0   1000000000   12.606569\n",
       "4                    0  10000000000  148.148676"
      ]
     },
     "execution_count": 3,
     "metadata": {},
     "output_type": "execute_result"
    }
   ],
   "source": [
    "seq = df[df[\"Number of processes\"] == 0].sort_values(\"N\", axis=0)\n",
    "seq"
   ]
  },
  {
   "cell_type": "code",
   "execution_count": 4,
   "metadata": {},
   "outputs": [
    {
     "data": {
      "image/png": "[encoded data removed]",
      "text/plain": [
       "<Figure size 432x288 with 1 Axes>"
      ]
     },
     "metadata": {},
     "output_type": "display_data"
    }
   ],
   "source": [
    "seq.plot(x=\"N\", y=\"Time (s)\", kind=\"scatter\", loglog=True)\n",
    "plt.show()"
   ]
  },
  {
   "cell_type": "markdown",
   "metadata": {},
   "source": [
    "Time needed to find all prime numbers under `N` increases roughly linearly. It is quite fast.\n",
    "## MPI:"
   ]
  },
  {
   "cell_type": "code",
   "execution_count": 5,
   "metadata": {},
   "outputs": [
    {
     "data": {
      "text/html": [
       "<div>\n",
       "<style scoped>\n",
       "    .dataframe tbody tr th:only-of-type {\n",
       "        vertical-align: middle;\n",
       "    }\n",
       "\n",
       "    .dataframe tbody tr th {\n",
       "        vertical-align: top;\n",
       "    }\n",
       "\n",
       "    .dataframe thead th {\n",
       "        text-align: right;\n",
       "    }\n",
       "</style>\n",
       "<table border=\"1\" class=\"dataframe\">\n",
       "  <thead>\n",
       "    <tr style=\"text-align: right;\">\n",
       "      <th></th>\n",
       "      <th></th>\n",
       "      <th>Time (s)</th>\n",
       "    </tr>\n",
       "    <tr>\n",
       "      <th>N</th>\n",
       "      <th>Number of processes</th>\n",
       "      <th></th>\n",
       "    </tr>\n",
       "  </thead>\n",
       "  <tbody>\n",
       "    <tr>\n",
       "      <th rowspan=\"4\" valign=\"top\">1000000</th>\n",
       "      <th>1</th>\n",
       "      <td>0.004832</td>\n",
       "    </tr>\n",
       "    <tr>\n",
       "      <th>2</th>\n",
       "      <td>0.008422</td>\n",
       "    </tr>\n",
       "    <tr>\n",
       "      <th>3</th>\n",
       "      <td>0.006578</td>\n",
       "    </tr>\n",
       "    <tr>\n",
       "      <th>4</th>\n",
       "      <td>0.005575</td>\n",
       "    </tr>\n",
       "    <tr>\n",
       "      <th rowspan=\"4\" valign=\"top\">10000000</th>\n",
       "      <th>1</th>\n",
       "      <td>0.079674</td>\n",
       "    </tr>\n",
       "    <tr>\n",
       "      <th>2</th>\n",
       "      <td>0.115843</td>\n",
       "    </tr>\n",
       "    <tr>\n",
       "      <th>3</th>\n",
       "      <td>0.117621</td>\n",
       "    </tr>\n",
       "    <tr>\n",
       "      <th>4</th>\n",
       "      <td>0.114187</td>\n",
       "    </tr>\n",
       "    <tr>\n",
       "      <th rowspan=\"4\" valign=\"top\">100000000</th>\n",
       "      <th>1</th>\n",
       "      <td>1.009080</td>\n",
       "    </tr>\n",
       "    <tr>\n",
       "      <th>2</th>\n",
       "      <td>3.093652</td>\n",
       "    </tr>\n",
       "    <tr>\n",
       "      <th>3</th>\n",
       "      <td>2.943544</td>\n",
       "    </tr>\n",
       "    <tr>\n",
       "      <th>4</th>\n",
       "      <td>3.018331</td>\n",
       "    </tr>\n",
       "    <tr>\n",
       "      <th rowspan=\"4\" valign=\"top\">1000000000</th>\n",
       "      <th>1</th>\n",
       "      <td>11.240482</td>\n",
       "    </tr>\n",
       "    <tr>\n",
       "      <th>2</th>\n",
       "      <td>37.256294</td>\n",
       "    </tr>\n",
       "    <tr>\n",
       "      <th>3</th>\n",
       "      <td>35.981735</td>\n",
       "    </tr>\n",
       "    <tr>\n",
       "      <th>4</th>\n",
       "      <td>36.929558</td>\n",
       "    </tr>\n",
       "    <tr>\n",
       "      <th rowspan=\"4\" valign=\"top\">10000000000</th>\n",
       "      <th>1</th>\n",
       "      <td>150.722700</td>\n",
       "    </tr>\n",
       "    <tr>\n",
       "      <th>2</th>\n",
       "      <td>534.977278</td>\n",
       "    </tr>\n",
       "    <tr>\n",
       "      <th>3</th>\n",
       "      <td>483.856276</td>\n",
       "    </tr>\n",
       "    <tr>\n",
       "      <th>4</th>\n",
       "      <td>484.745668</td>\n",
       "    </tr>\n",
       "  </tbody>\n",
       "</table>\n",
       "</div>"
      ],
      "text/plain": [
       "                                   Time (s)\n",
       "N           Number of processes            \n",
       "1000000     1                      0.004832\n",
       "            2                      0.008422\n",
       "            3                      0.006578\n",
       "            4                      0.005575\n",
       "10000000    1                      0.079674\n",
       "            2                      0.115843\n",
       "            3                      0.117621\n",
       "            4                      0.114187\n",
       "100000000   1                      1.009080\n",
       "            2                      3.093652\n",
       "            3                      2.943544\n",
       "            4                      3.018331\n",
       "1000000000  1                     11.240482\n",
       "            2                     37.256294\n",
       "            3                     35.981735\n",
       "            4                     36.929558\n",
       "10000000000 1                    150.722700\n",
       "            2                    534.977278\n",
       "            3                    483.856276\n",
       "            4                    484.745668"
      ]
     },
     "execution_count": 5,
     "metadata": {},
     "output_type": "execute_result"
    }
   ],
   "source": [
    "groups = df.groupby([\"Number of processes\", \"N\"]).mean()\n",
    "df[df[\"Number of processes\"] != 0].groupby([\"N\", \"Number of processes\"]).mean()"
   ]
  },
  {
   "cell_type": "code",
   "execution_count": 6,
   "metadata": {},
   "outputs": [
    {
     "data": {
      "image/png": "[encoded data removed]",
      "text/plain": [
       "<Figure size 1080x504 with 1 Axes>"
      ]
     },
     "metadata": {},
     "output_type": "display_data"
    }
   ],
   "source": [
    "fig, ax = plt.subplots(figsize=(15,7))\n",
    "groups.unstack().plot(logy=True, y=\"Time (s)\", ax=ax)\n",
    "ax.set_ylabel(\"Time (s)\")\n",
    "ax.set_title(\"Runtime MPI Sieve (log-scale)\")\n",
    "plt.show()"
   ]
  },
  {
   "cell_type": "markdown",
   "metadata": {},
   "source": [
    "As you can see, no speed up is reached. Going going from one to two processes makes this implementation of the Sieve 2.5 to 3 times slower. Adding any more processes slows down nor speeds up the Sieve. There is almost no speed difference between a single process version of the MPI Sieve and the Sequential version (sequential being marked as Number of processes = 0)."
   ]
  },
  {
   "cell_type": "markdown",
   "metadata": {},
   "source": [
    "## Conclusion\n",
    "I was unable to make my parallel version of the Sieve any faster than the sequential version of my sieve. \n",
    "\n",
    "In my original version of the MPI Sieve, I used MPI methods where possible (See design). These MPI methods cause a lot of overhead and inadvertently made the script less parallel. I stripped away the majority of these features, letting each process handle much more of their own business. \n",
    "\n",
    "Stripping away most MPI methods, I was left with only the `MPI.reduce` method to sum up each process' individual number of prime numbers. My original version got linearly slower when adding new processes. Leaving only `MPI.reduce` as the only MPI method ensured that the script did not get any slower when adding more than one extra process. \n",
    "\n",
    "### Reflection\n",
    "While I feel that I understand parallelism in a conceptual sense, I do recognize that my abilities to implement parallelism are lacking. Looking back, I was only able to speed up the original algorithms in two of the assignments. In only one of these assignments I managed to speed up the algorithm consistently. \n",
    "\n",
    "In regular, sequential, programming I am able to program mainly on instinct. I have enough experience that it feels “natural” to write fast code and enough knowledge on the subject to defend my decisions.  I still need to develop this instinct for parallel programming.\n",
    "\n",
    "For this assignment, I removed as much of the overhead causing slow down as I could imagine. I managed to speed it up to the point that adding more processes would not increase runtime further. \n",
    "\n",
    "The only way I can imagine speeding up the MPI Sieve, is by more effectively using a master-worker pattern. If we ensure that `range(2, root_N+1)` is in process 0, we can have process 0 check and broadcast if k equals a prime number. This would eliminate the need to have a for-loop in each separate process. It would also eliminate a lot of the checks done in the functions `first_common_index` and `update_partial_sieve`. \n",
    "\n",
    "I believe I deserve a passing grade for this assignment. Though I was unable to speed up the MPI Sieve, through my conceptual designs, coding, and conversations had with teachers I did show an understanding of OpenMP, MPI, and the concepts of parallelism. I was even able to explain parallelism and how difficult it can be to implement to my parents! \n"
   ]
  }
 ],
 "metadata": {
  "kernelspec": {
   "display_name": "Python 3",
   "language": "python",
   "name": "python3"
  },
  "language_info": {
   "codemirror_mode": {
    "name": "ipython",
    "version": 3
   },
   "file_extension": ".py",
   "mimetype": "text/x-python",
   "name": "python",
   "nbconvert_exporter": "python",
   "pygments_lexer": "ipython3",
   "version": "3.7.6"
  }
 },
 "nbformat": 4,
 "nbformat_minor": 4
}
