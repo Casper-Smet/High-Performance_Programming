{
 "cells": [
  {
   "cell_type": "markdown",
   "metadata": {},
   "source": [
    "# 1.4: Space-Time\n",
    "### Opdracht 1.4: Ruimte-tijd\n",
    "According to this assignment, an average modern application uses up about 1,000 hours of process time.\n",
    "## 1.4.1\n",
    "A computer cluster uses 1400 Watt. In a period of of 1,000 hours, the computer cluster uses this much kWh:  \n",
    "  \n",
    "$\\begin{equation}\n",
    "1400 \\cdot 3600 \\cdot 1000 = 5,040,000,000 J \\\\\n",
    "1 kWh = 3,600,000 J \\\\\n",
    "\\dfrac{5,040,000,000}{3,600,600} = 1400 kWh\n",
    "\\end{equation}$\n",
    "\n",
    "A total of 1400 kWh of energy used.\n",
    "\n",
    "## 1.4.2\n",
    "A liter of diesel fuel contains about 10kWh of energy. A car's engine is rather inefficient, using only about 15% of said energy. \n",
    "\n",
    "An average diesel car can go about 20 km on one liter of diesel. \n",
    "How much energy is needed to drive from Utrecht to Paris (475 km)?  \n",
    "\n",
    "$\\begin{aligned}\n",
    "\\text{fuel in liters}& \\rightarrow  &&F_{L} = \\dfrac{475}{20} = 23.75 L \\\\\n",
    "\\text{fuel in energy}& \\rightarrow  &&F_{e} = F_{L} \\cdot 10 = 237.5 kWh \\\\\n",
    "\\text{Consumed energy}& \\rightarrow &&E = F_{e} \\cdot 0.15 = 35.625 kWh\n",
    "\\end{aligned}$\n",
    "\n",
    "If the amount of energy used by the computer cluster was expressed in fuel, how many times could one go back-and-forth between Utrecht and Paris?\n",
    "\n",
    "$\\begin{aligned}\n",
    "\\text{fuel in liters}& \\rightarrow &&F_{L} = \\dfrac{1400}{10} = 140 L\\\\\n",
    "\\text{travelable distance}& \\rightarrow &&d = F_{L} \\cdot 20 = 28000 km \\\\\n",
    "\\text{back-and-forth}& \\rightarrow &&d_{back-and-forth} = \\dfrac{d}{475 \\cdot 2} = 29.47 \\approx 29 \n",
    "\\end{aligned}$  \n",
    "\n",
    "With the energy consumed by the computer cluster, a car can go back and forth between Utrecht and Paris 29 times.\n",
    "## 1.4.3\n",
    "How much liters worth of diesel is needed to keep the cluster running for 1,000 hours? Assuming that the cluster is only as efficient as the average car engine, only 15% of the energy stored in the fuel may be accessed. \n",
    "\n",
    "$\\begin{equation}\n",
    "15\\% = 1400 kWh\\\\\n",
    "100\\% = \\dfrac{1400}{15} \\cdot 100 \\approx 9333,34 kWh \\\\\n",
    "\\text{liters of fuel} = \\dfrac{9333,34}{20} \\approx 466,67 L\n",
    "\\end{equation}$\n",
    "\n",
    "## 1.4.4\n",
    "Assuming that you can equally divide the hypothetical task (it is completely parallelisable) over four cores, you may reduce process time to one fourth of the original. This equals roughly 250 hours. Assuming these extra cores do not increase the cluster computer's energy consumption, the maximum distance traveled is quartered. This comes down to a distance of $\\dfrac{28000}{4} = 7000$ km\n",
    "\n"
   ]
  }
 ],
 "metadata": {
  "kernelspec": {
   "display_name": "Python 3",
   "language": "python",
   "name": "python3"
  },
  "language_info": {
   "codemirror_mode": {
    "name": "ipython",
    "version": 3
   },
   "file_extension": ".py",
   "mimetype": "text/x-python",
   "name": "python",
   "nbconvert_exporter": "python",
   "pygments_lexer": "ipython3",
   "version": "3.7.6"
  }
 },
 "nbformat": 4,
 "nbformat_minor": 4
}
