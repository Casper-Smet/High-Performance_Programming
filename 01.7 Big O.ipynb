{
 "cells": [
  {
   "cell_type": "markdown",
   "metadata": {},
   "source": [
    "# 01.7 Determining Big O of various algorithms\n",
    "### Opdracht 1.7: Bepalen Big O van diverse algoritmes\n",
    "1. The Big O for accessing an item in a Python list via index is $O(1)$. \n",
    "2. The Python List function `.insert()` has a time complexity of $O(n)$. It needs to cycle through all indexes leading up to the intended one, and then move all items further up by one place. \n",
    "3. Shell sort is described as a generalisation of insertion sort. Instead of comparing adjacent items, you compare items with a gap in between them. The size of this gap decreases as the algorithm loops through the array. Its best-case and average performance are completely dictated by its gap size(s). Therefore, it most likely has the same worst-case time complexity as insertion sort: $O(n^{2})$\n",
    "4. In bubble sort, you compare a pair of items. If the left item is greater than the right item, they swap position. The next pair includes the (now) right item and the item to its right. Assuming the list is already sorted, no swaps need to happen. This being the best-case performance, one can assume a time complexity of $O(n)$. In the worst-case scenario, the array is not even close to being ordered. In this scenario, each element must be compared with roughly every other element, resulting in a complexity of $O(n^{2})$.\n",
    "5. It takes $2^{n}-1$ operations to solve Tower of Hanoi, with $n$ being the amount of disks. The (simplified) big O is then $O(2^{n})$.\n",
    "6. For an array of $n$ items , assuming they are all unique, there are $n!$ possible permutations."
   ]
  }
 ],
 "metadata": {
  "kernelspec": {
   "display_name": "Python 3",
   "language": "python",
   "name": "python3"
  },
  "language_info": {
   "codemirror_mode": {
    "name": "ipython",
    "version": 3
   },
   "file_extension": ".py",
   "mimetype": "text/x-python",
   "name": "python",
   "nbconvert_exporter": "python",
   "pygments_lexer": "ipython3",
   "version": "3.7.6"
  }
 },
 "nbformat": 4,
 "nbformat_minor": 4
}
