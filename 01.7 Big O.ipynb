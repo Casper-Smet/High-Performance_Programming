{
 "cells": [
  {
   "cell_type": "markdown",
   "metadata": {},
   "source": [
    "# 01.7 Determining Big O of various algorithms\n",
    "### Opdracht 1.7: Bepalen Big O van diverse algoritmes\n",
    "1. The Big O for finding an item in a Python list according through its index is linear. The greater the index (and thus the list) the greater the time complexity. $O(n)$\n",
    "2. What I assume is intended here, is replacing one item with another in a list. This is almost exactly the same operation as that of **1.**. $O(n)$\n",
    "3. Shell sort is described as a generalisation of insertion sort. Instead of comparing adjacent items, you compare items with a gap in between them. The size of this gap decreases as the algorithm loops through the array. Its best-case and average performance are completely dictated by its gap size(s). Therefore, it most likely has the same worst-case time complexity as insertion sort: $O(n^{2})$\n",
    "4. In bubble sort, you compare a pair of items. If the left item is greater than the right item, they swap position. The next pair includes the (now) right item and the item to its right. Assuming the list is already sorted, no swaps need to happen. This being the best-case performance, one can assume a time complexity of $O(n)$. In the worst-case scenario, the array is not even close to being ordered. In this scenario, each element must be compared with roughly every other element, resulting in a complexity of $O(n^{2})$.\n",
    "5. The amount of operations to solve Towers of Hanoi can be described with the following differential equation: \n",
    "\n",
    "$\\begin{equation}\n",
    "F_{1} = 1 \\\\\n",
    "F_{n} = F_{n-1} \\cdot 2 + 1\n",
    "\\end{equation}$  \n",
    "6. For an array of $n$ items , assuming they are all unique, there are $n!$ possible purmutations."
   ]
  }
 ],
 "metadata": {
  "kernelspec": {
   "display_name": "Python 3",
   "language": "python",
   "name": "python3"
  },
  "language_info": {
   "codemirror_mode": {
    "name": "ipython",
    "version": 3
   },
   "file_extension": ".py",
   "mimetype": "text/x-python",
   "name": "python",
   "nbconvert_exporter": "python",
   "pygments_lexer": "ipython3",
   "version": "3.7.6"
  }
 },
 "nbformat": 4,
 "nbformat_minor": 4
}
