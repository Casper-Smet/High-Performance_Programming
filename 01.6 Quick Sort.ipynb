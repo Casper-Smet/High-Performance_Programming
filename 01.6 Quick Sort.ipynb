{
 "cells": [
  {
   "cell_type": "code",
   "execution_count": 1,
   "metadata": {},
   "outputs": [],
   "source": [
    "import numpy as np"
   ]
  },
  {
   "cell_type": "markdown",
   "metadata": {},
   "source": [
    "# 01.6: Quick Sort\n",
    "### Opdracht 1.6: Quick Sort\n",
    "## 01.6.1 Implementing Quick Sort \n",
    "For this assignment I have to implement Quick Sort. Quick Sort is a remarkably simple yet quick (as the name implies) sorting algorithm. It can be implemented, recursively, in just 6 lines. \n",
    "Quick Sort works like this:\n",
    "1.\tCheck if the given array has length of 0 or 1, these are per definition already sorted. If true, return the array.\n",
    "2.\tSelect a pivot. In this case, it is the first element in the array.\n",
    "3.\tSplit the rest of the array into subarrays, one with greater numbers, and one with smaller numbers. Make sure to include equal sized numbers into one of these.\n",
    "4.\tRepeat these steps for the smaller and greater list until you have split the original array into subarrays of length 0 or 1. \n",
    "5. Concatenate these subarrays to form an ordered list. \n"
   ]
  },
  {
   "cell_type": "code",
   "execution_count": 2,
   "metadata": {},
   "outputs": [],
   "source": [
    "def quick_sort(subarray):\n",
    "    # Exit condition, lists of size 0 and 1 cannot be split further, return subarray\n",
    "    if len(subarray) in [0, 1]:\n",
    "        return subarray\n",
    "    # Select pivot (left-most item in array)\n",
    "    pivot = subarray[0]\n",
    "    # Split into smaller and greater(/equal to) arrays\n",
    "    smaller = list(filter(lambda x: x < pivot, subarray[1:]))\n",
    "    greater = list(filter(lambda x: x >= pivot, subarray[1:]))\n",
    "    # Recursion call\n",
    "    return quick_sort(smaller) + [pivot] + quick_sort(greater)"
   ]
  },
  {
   "cell_type": "code",
   "execution_count": 3,
   "metadata": {},
   "outputs": [
    {
     "name": "stdout",
     "output_type": "stream",
     "text": [
      "True\n"
     ]
    }
   ],
   "source": [
    "thirtyK  = np.arange(-15_000, 15_000)\n",
    "np.random.shuffle(thirtyK)\n",
    "print(quick_sort(thirtyK) == sorted(thirtyK))"
   ]
  },
  {
   "cell_type": "markdown",
   "metadata": {},
   "source": [
    "If Python's `Sorted` function is to be believed, this Quick Sort implementation has properly sorted a randomly-filled list with 30K items!.\n",
    "## 01.6.2 Now this is podracing!\n",
    "Now to analyse Quick Sort's runtime and time complexity. \n",
    "\n",
    "The below functions were borrowed from 01.1"
   ]
  },
  {
   "cell_type": "code",
   "execution_count": 4,
   "metadata": {},
   "outputs": [],
   "source": [
    "def give_lists():\n",
    "    \"\"\"Taken from 01.1\"\"\"\n",
    "    thirtyK  = np.arange(0, 30_000)\n",
    "    tenK     = np.arange(0, 10_000)\n",
    "    oneK     = np.arange(0, 1_000)\n",
    "    \n",
    "    np.random.shuffle(thirtyK)\n",
    "    np.random.shuffle(tenK)\n",
    "    np.random.shuffle(oneK)\n",
    "    return thirtyK, tenK, oneK\n",
    "\n",
    "def partial_sort_func(func):\n",
    "    \"\"\"Taken from 01.1\"\"\"\n",
    "    # TODO redo with cProfile    \n",
    "    thirtyK, tenK, oneK = give_lists()\n",
    "    oneK_time    = %timeit -r 1 -n 1 -o -q func(oneK)\n",
    "    tenK_time    = %timeit -r 1 -n 1 -o -q func(tenK)\n",
    "    thirtyK_time = %timeit -r 1 -n 1 -o -q func(thirtyK)\n",
    "    \n",
    "    \n",
    "    return {\"1.000\" : oneK_time, \"10.000\" : tenK_time, \"30.000\" : thirtyK_time}"
   ]
  },
  {
   "cell_type": "code",
   "execution_count": 5,
   "metadata": {},
   "outputs": [
    {
     "data": {
      "text/plain": [
       "{'1.000': <TimeitResult : 3.8 ms ± 0 ns per loop (mean ± std. dev. of 1 run, 1 loop each)>,\n",
       " '10.000': <TimeitResult : 44.9 ms ± 0 ns per loop (mean ± std. dev. of 1 run, 1 loop each)>,\n",
       " '30.000': <TimeitResult : 146 ms ± 0 ns per loop (mean ± std. dev. of 1 run, 1 loop each)>}"
      ]
     },
     "execution_count": 5,
     "metadata": {},
     "output_type": "execute_result"
    }
   ],
   "source": [
    "partial_sort_func(quick_sort)"
   ]
  },
  {
   "cell_type": "markdown",
   "metadata": {},
   "source": [
    "For a pre-sorted list of 900 items"
   ]
  },
  {
   "cell_type": "code",
   "execution_count": 6,
   "metadata": {},
   "outputs": [],
   "source": [
    "def partial_presorted_func(func):\n",
    "    thirtyK = np.arange(0, 900)\n",
    "    %timeit -r 2 -n 2 func(thirtyK)"
   ]
  },
  {
   "cell_type": "code",
   "execution_count": 7,
   "metadata": {},
   "outputs": [
    {
     "name": "stdout",
     "output_type": "stream",
     "text": [
      "78 ms ± 3.88 ms per loop (mean ± std. dev. of 2 runs, 2 loops each)\n"
     ]
    }
   ],
   "source": [
    "partial_presorted_func(quick_sort)"
   ]
  },
  {
   "cell_type": "markdown",
   "metadata": {},
   "source": [
    "\n",
    "This is a particularly disastrous scenario for Quick Sort in Python. Python has a maximum recursion depth of 997. If the list is presorted, the only list that will recurse is the greater-numbers one. The opposite is true of the reversed list. This causes a massive recursion depth. This in turn, causing a maximum-recursion depth reached error. \n",
    "\n",
    "Because of this, I chose to only do the “presorted” and \"reversed\" test with 900 items.\n",
    "\n",
    "For a reversed list of 900 items:\n"
   ]
  },
  {
   "cell_type": "code",
   "execution_count": 8,
   "metadata": {},
   "outputs": [],
   "source": [
    "def partial_reversed_func(func):\n",
    "    thirtyK = np.arange(0, 900)[::-1]\n",
    "    %timeit -r 1 -n 1 func(thirtyK)"
   ]
  },
  {
   "cell_type": "code",
   "execution_count": 9,
   "metadata": {},
   "outputs": [
    {
     "name": "stdout",
     "output_type": "stream",
     "text": [
      "83.8 ms ± 0 ns per loop (mean ± std. dev. of 1 run, 1 loop each)\n"
     ]
    }
   ],
   "source": [
    "partial_reversed_func(quick_sort)"
   ]
  },
  {
   "cell_type": "markdown",
   "metadata": {},
   "source": [
    "Now onto the Big O. Recursively dividing the array into subarrays is reminiscent of merge sort. -And in the best-case scenario, it is exactly the same Big O! \n",
    "In the best-case scenario, each partition step partitions the array into to nearly equal pieces. Every recursive step, quick sort processes a list half the size of the previous step. Thus, quick sort recursively calls itself only $\\log{n}$ times. During each recursive step, quick sort performs $n$ operations. This results in a Big O of:\n",
    "\n",
    "$O(n \\log{n})$\n",
    "\n",
    "The worst-case scenario is the one we described before: a presorted or reversed list. In this scenario, quick sort recursively calls itself $n-1$ times, as the list quick sort processes is only one size less than that of the previous step. $n$ operations per call roughly equals a Big O of:\n",
    "\n",
    "$O(n^{2})$ \n"
   ]
  }
 ],
 "metadata": {
  "kernelspec": {
   "display_name": "Python 3",
   "language": "python",
   "name": "python3"
  },
  "language_info": {
   "codemirror_mode": {
    "name": "ipython",
    "version": 3
   },
   "file_extension": ".py",
   "mimetype": "text/x-python",
   "name": "python",
   "nbconvert_exporter": "python",
   "pygments_lexer": "ipython3",
   "version": "3.7.6"
  }
 },
 "nbformat": 4,
 "nbformat_minor": 4
}
