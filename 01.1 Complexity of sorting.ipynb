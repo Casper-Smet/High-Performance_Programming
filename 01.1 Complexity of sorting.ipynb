{
 "cells": [
  {
   "cell_type": "code",
   "execution_count": 1,
   "metadata": {},
   "outputs": [],
   "source": [
    "from scripts.sorting_algorithms import selection_sort, recursive_selection_sort, insertion_sort, recursive_insertion_sort, merge_sort, recursive_merge_sort\n",
    "import random as r\n",
    "import numpy as np\n",
    "from math import log2\n",
    "import matplotlib.pyplot as plt\n",
    "%matplotlib inline"
   ]
  },
  {
   "cell_type": "markdown",
   "metadata": {},
   "source": [
    "# 1.1: Complexity of sorting\n",
    "### Opdracht 1.1: Complexiteit van sorteren\n",
    "## 1.1.1 Sorting, speed?\n",
    "1. Given lists of lengths 1.000, 10.000, 30.000, how long does each algorithm take to sort?\n",
    "2. Assuming a list contains 30.000 sorted items, how long does each algorithm take to sort?\n",
    "3. Reverse the sorted list from the previous point, how long does each algorithm take to sort?"
   ]
  },
  {
   "cell_type": "code",
   "execution_count": 2,
   "metadata": {},
   "outputs": [],
   "source": [
    "def give_lists():\n",
    "    thirtyK  = np.arange(0, 30_000)\n",
    "    tenK     = np.arange(0, 10_000)\n",
    "    oneK     = np.arange(0, 1_000)\n",
    "    \n",
    "    np.random.shuffle(thirtyK)\n",
    "    np.random.shuffle(tenK)\n",
    "    np.random.shuffle(oneK)\n",
    "    return thirtyK, tenK, oneK\n",
    "\n",
    "def partial_sort_func(func):\n",
    "    # TODO redo with cProfile    \n",
    "    thirtyK, tenK, oneK = give_lists()\n",
    "    oneK_time    = %timeit -r 1 -n 1 -o -q func(oneK)\n",
    "    tenK_time    = %timeit -r 1 -n 1 -o -q func(tenK)\n",
    "    thirtyK_time = %timeit -r 1 -n 1 -o -q func(thirtyK)\n",
    "    \n",
    "    \n",
    "    return {\"1.000\" : oneK_time, \"10.000\" : tenK_time, \"30.000\" : thirtyK_time}\n",
    "\n",
    "def partial_presorted_func(func):\n",
    "    thirtyK = np.arange(0, 30_000)\n",
    "    %timeit -r 2 -n 2 func(thirtyK)\n",
    "    \n",
    "def partial_reversed_func(func):\n",
    "    thirtyK = np.arange(0, 30_000)[::-1]\n",
    "    %timeit -r 1 -n 1 func(thirtyK)"
   ]
  },
  {
   "cell_type": "markdown",
   "metadata": {},
   "source": [
    "#### Selection sort\n",
    "<!-- Selection sort has a run time efficiency of $O(n^{2})$. Running 1.000.000 and 1.000.000.000 length lists is unrealistic. Here, only 1.000 will be run. -->\n",
    "1. Given lists of lengths 1.000, 10.000, 30.000, how long does each algorithm take to sort?"
   ]
  },
  {
   "cell_type": "code",
   "execution_count": 3,
   "metadata": {},
   "outputs": [],
   "source": [
    "selection_result = partial_sort_func(selection_sort)"
   ]
  },
  {
   "cell_type": "code",
   "execution_count": 4,
   "metadata": {},
   "outputs": [
    {
     "data": {
      "text/plain": [
       "{'1.000': <TimeitResult : 375 ms ± 0 ns per loop (mean ± std. dev. of 1 run, 1 loop each)>,\n",
       " '10.000': <TimeitResult : 34 s ± 0 ns per loop (mean ± std. dev. of 1 run, 1 loop each)>,\n",
       " '30.000': <TimeitResult : 5min 2s ± 0 ns per loop (mean ± std. dev. of 1 run, 1 loop each)>}"
      ]
     },
     "execution_count": 4,
     "metadata": {},
     "output_type": "execute_result"
    }
   ],
   "source": [
    "selection_result"
   ]
  },
  {
   "cell_type": "markdown",
   "metadata": {},
   "source": [
    "2. Assuming a list contains 30.000 sorted items, how long does each algorithm take to sort?"
   ]
  },
  {
   "cell_type": "code",
   "execution_count": 5,
   "metadata": {},
   "outputs": [
    {
     "name": "stdout",
     "output_type": "stream",
     "text": [
      "4min 57s ± 131 ms per loop (mean ± std. dev. of 2 runs, 2 loops each)\n"
     ]
    }
   ],
   "source": [
    "partial_presorted_func(selection_sort)"
   ]
  },
  {
   "cell_type": "markdown",
   "metadata": {},
   "source": [
    "3. Reverse the sorted list from the previous point, how long does each algorithm take to sort?"
   ]
  },
  {
   "cell_type": "code",
   "execution_count": 6,
   "metadata": {},
   "outputs": [
    {
     "name": "stdout",
     "output_type": "stream",
     "text": [
      "5min 10s ± 0 ns per loop (mean ± std. dev. of 1 run, 1 loop each)\n"
     ]
    }
   ],
   "source": [
    "partial_reversed_func(selection_sort)"
   ]
  },
  {
   "cell_type": "markdown",
   "metadata": {},
   "source": [
    "#### Insertion sort"
   ]
  },
  {
   "cell_type": "code",
   "execution_count": 7,
   "metadata": {},
   "outputs": [],
   "source": [
    "insertion_result = partial_sort_func(insertion_sort)"
   ]
  },
  {
   "cell_type": "code",
   "execution_count": 8,
   "metadata": {},
   "outputs": [
    {
     "data": {
      "text/plain": [
       "{'1.000': <TimeitResult : 283 ms ± 0 ns per loop (mean ± std. dev. of 1 run, 1 loop each)>,\n",
       " '10.000': <TimeitResult : 27.3 s ± 0 ns per loop (mean ± std. dev. of 1 run, 1 loop each)>,\n",
       " '30.000': <TimeitResult : 4min 4s ± 0 ns per loop (mean ± std. dev. of 1 run, 1 loop each)>}"
      ]
     },
     "execution_count": 8,
     "metadata": {},
     "output_type": "execute_result"
    }
   ],
   "source": [
    "insertion_result"
   ]
  },
  {
   "cell_type": "markdown",
   "metadata": {},
   "source": [
    "2. Assuming a list contains 30.000 sorted items, how long does each algorithm take to sort?"
   ]
  },
  {
   "cell_type": "code",
   "execution_count": 9,
   "metadata": {},
   "outputs": [
    {
     "name": "stdout",
     "output_type": "stream",
     "text": [
      "33.9 ms ± 2.67 ms per loop (mean ± std. dev. of 2 runs, 2 loops each)\n"
     ]
    }
   ],
   "source": [
    "partial_presorted_func(insertion_sort)"
   ]
  },
  {
   "cell_type": "markdown",
   "metadata": {},
   "source": [
    "3. Reverse the sorted list from the previous point, how long does each algorithm take to sort?"
   ]
  },
  {
   "cell_type": "code",
   "execution_count": 10,
   "metadata": {},
   "outputs": [
    {
     "name": "stdout",
     "output_type": "stream",
     "text": [
      "8min 11s ± 0 ns per loop (mean ± std. dev. of 1 run, 1 loop each)\n"
     ]
    }
   ],
   "source": [
    "partial_reversed_func(insertion_sort)"
   ]
  },
  {
   "cell_type": "markdown",
   "metadata": {},
   "source": [
    "#### Merge sort"
   ]
  },
  {
   "cell_type": "code",
   "execution_count": 11,
   "metadata": {},
   "outputs": [],
   "source": [
    "merge_result = partial_sort_func(merge_sort)"
   ]
  },
  {
   "cell_type": "code",
   "execution_count": 12,
   "metadata": {},
   "outputs": [
    {
     "data": {
      "text/plain": [
       "{'1.000': <TimeitResult : 21.3 ms ± 0 ns per loop (mean ± std. dev. of 1 run, 1 loop each)>,\n",
       " '10.000': <TimeitResult : 268 ms ± 0 ns per loop (mean ± std. dev. of 1 run, 1 loop each)>,\n",
       " '30.000': <TimeitResult : 1.17 s ± 0 ns per loop (mean ± std. dev. of 1 run, 1 loop each)>}"
      ]
     },
     "execution_count": 12,
     "metadata": {},
     "output_type": "execute_result"
    }
   ],
   "source": [
    "merge_result"
   ]
  },
  {
   "cell_type": "markdown",
   "metadata": {},
   "source": [
    "2. Assuming a list contains 30.000 sorted items, how long does each algorithm take to sort?"
   ]
  },
  {
   "cell_type": "code",
   "execution_count": 13,
   "metadata": {},
   "outputs": [
    {
     "name": "stdout",
     "output_type": "stream",
     "text": [
      "218 ms ± 14.6 ms per loop (mean ± std. dev. of 2 runs, 2 loops each)\n"
     ]
    }
   ],
   "source": [
    "partial_presorted_func(merge_sort)"
   ]
  },
  {
   "cell_type": "markdown",
   "metadata": {},
   "source": [
    "3. Reverse the sorted list from the previous point, how long does each algorithm take to sort?"
   ]
  },
  {
   "cell_type": "code",
   "execution_count": 14,
   "metadata": {},
   "outputs": [
    {
     "name": "stdout",
     "output_type": "stream",
     "text": [
      "807 ms ± 0 ns per loop (mean ± std. dev. of 1 run, 1 loop each)\n"
     ]
    }
   ],
   "source": [
    "partial_reversed_func(merge_sort)"
   ]
  },
  {
   "cell_type": "markdown",
   "metadata": {},
   "source": [
    "## 1.1.2 Big O: Best case, worst case, and average case\n",
    "Decide on what type of theoretical time complexity (Big O) each algorithm has. Specifically note the 'best-case', 'worst-case', and 'average-case' for these. \n",
    "\n",
    "See below for some standard Big O notations in lambda form."
   ]
  },
  {
   "cell_type": "code",
   "execution_count": 15,
   "metadata": {},
   "outputs": [],
   "source": [
    "O_n2 = lambda n : n**2\n",
    "O_n = lambda n : n\n",
    "n_log_star_n = lambda n : n * log2(n)\n",
    "\n",
    "x_range = list(range(1, 1000))\n",
    "O_n2_list = list(map(O_n2, x_range))\n",
    "O_n_list = list(map(O_n, x_range))\n",
    "n_log_star_n_list = list(map(n_log_star_n, x_range))"
   ]
  },
  {
   "cell_type": "markdown",
   "metadata": {},
   "source": [
    "### Selection sort\n",
    "Selection sort has a Big O notation of $O(n^{2})$. Selection sort implements a double for-loop (one for-loop inside another). This usually implies $O(n^{2})$. Selection sort only fully loops through the list once (in the first for-loop). The second for-loop only loops from the index of the next-to-be-ordered item. Technically, the time complexity is $O(\\dfrac{1}{2}(n^{2}-n))$.\n",
    "\n",
    "For smaller lists this does not impact time complexity significantly enough to be noted. Selection sort has consistent behaviour in any scenario; the order of the itemsn in the original list does not impact time complexity. Best-, worst- and average-case are all equal to $O(n^{2})$. In order to illustrate the difference of the more detailed time complexity, see the accompanying plot. "
   ]
  },
  {
   "cell_type": "code",
   "execution_count": 16,
   "metadata": {},
   "outputs": [
    {
     "data": {
      "image/png": "[encoded data removed]",
      "text/plain": [
       "<Figure size 432x288 with 1 Axes>"
      ]
     },
     "metadata": {
      "needs_background": "light"
     },
     "output_type": "display_data"
    }
   ],
   "source": [
    "select_detail = lambda n : 0.5 * (n**2 - n)\n",
    "select_y = list(map(select_detail, x_range))\n",
    "plt.plot(x_range, O_n2_list, label=\"$O(n^{2})$\")\n",
    "plt.plot(x_range, select_y, label=\"$O(\\dfrac{1}{2}(n^{2}-n))$\")\n",
    "plt.legend()\n",
    "plt.show()"
   ]
  },
  {
   "cell_type": "markdown",
   "metadata": {},
   "source": [
    "### Insertion sort\n",
    "Insertion sort again implements a loop in a loop. In this implementation, that is a while-loop inside of a for-loop. This, again, implies a time complexity of $O(n^{2})$. Insertion sort loops through all but the first value (just like selection sort). For each item, it moves it as far to the \"top\" of the list as it can. This happens step-by-step, comparing the current item to the item above itself in the list. If the item above it is \"greater\", the current item shifts into a position above said item. \n",
    "\n",
    "If the list was already ordered before the algorithm is used, insertion sort simply loops through the list once. This implies a time complexity of $O(n)$. This is the best-case scenario. \n",
    "\n",
    "It is highly unlikely for, especially bigger lists, to be somewhat pre-ordered. In non-ideal scenarios insertion sort has to loop through most if not the entire list for every single item. Thus, the average and worst-case scenarios are both $O(n^{2})$"
   ]
  },
  {
   "cell_type": "code",
   "execution_count": 17,
   "metadata": {},
   "outputs": [
    {
     "data": {
      "image/png": "[encoded data removed]",
      "text/plain": [
       "<Figure size 432x288 with 1 Axes>"
      ]
     },
     "metadata": {
      "needs_background": "light"
     },
     "output_type": "display_data"
    }
   ],
   "source": [
    "plt.plot(x_range, O_n2_list, label=\"Worst- and average-case. $O(n^{2})$\")\n",
    "plt.plot(x_range, O_n_list, label=\"Best-case. $O(n)$\")\n",
    "plt.legend()\n",
    "plt.show()"
   ]
  },
  {
   "cell_type": "markdown",
   "metadata": {},
   "source": [
    "### Merge sort\n",
    "Merge sort differs quite a lot from insertion and selection sort. Unlike the latter, merge sort does not loop through the list a couple of times. Instead, it divides the list into $n$ smaller lists. It then repeatedly merges these sublists into new, ordered, sublists until only one sublist remains. The final sublist is the sorted list.\n",
    "\n",
    "In all honesty, I did not understand this algorithm from looking at the given code. My source for these findings is [the Wikipedia about merge sort](https://en.wikipedia.org/wiki/Merge_sort).\n",
    "\n",
    "According to this article, every single case shares the following time complexity: $O(n \\log n)$. The runtime analysis done in the previous exercise implies something different. This may, however, be due to the implementation. "
   ]
  },
  {
   "cell_type": "code",
   "execution_count": 18,
   "metadata": {},
   "outputs": [
    {
     "data": {
      "image/png": "[encoded data removed]",
      "text/plain": [
       "<Figure size 432x288 with 1 Axes>"
      ]
     },
     "metadata": {
      "needs_background": "light"
     },
     "output_type": "display_data"
    }
   ],
   "source": [
    "plt.plot(x_range, n_log_star_n_list, label=\"All cases, $O(n \\log n)$\")\n",
    "plt.legend()\n",
    "plt.show()"
   ]
  },
  {
   "cell_type": "markdown",
   "metadata": {},
   "source": [
    "## 1.1.3 Big O: iteration vs. recursion\n",
    "There is no difference in runtime complexity between iteration and recursion. Recursion is generally preffered by mathmaticians, as it is easier to express mathmatically. Iteration tends to be preffered by computer engineers, as recursion tends to use a lot of memory, leading to possible stack overflows."
   ]
  }
 ],
 "metadata": {
  "kernelspec": {
   "display_name": "Python 3",
   "language": "python",
   "name": "python3"
  },
  "language_info": {
   "codemirror_mode": {
    "name": "ipython",
    "version": 3
   },
   "file_extension": ".py",
   "mimetype": "text/x-python",
   "name": "python",
   "nbconvert_exporter": "python",
   "pygments_lexer": "ipython3",
   "version": "3.7.6"
  }
 },
 "nbformat": 4,
 "nbformat_minor": 4
}
